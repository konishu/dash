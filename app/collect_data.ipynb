{
 "cells": [
  {
   "cell_type": "code",
   "execution_count": 115,
   "metadata": {},
   "outputs": [],
   "source": [
    "from bs4 import BeautifulSoup\n",
    "import requests"
   ]
  },
  {
   "cell_type": "code",
   "execution_count": 116,
   "metadata": {},
   "outputs": [],
   "source": [
    "url = 'https://scraping-for-beginner.herokuapp.com/udemy'"
   ]
  },
  {
   "cell_type": "code",
   "execution_count": 117,
   "metadata": {},
   "outputs": [
    {
     "data": {
      "text/plain": [
       "<Response [200]>"
      ]
     },
     "execution_count": 117,
     "metadata": {},
     "output_type": "execute_result"
    }
   ],
   "source": [
    "requests.get(url)"
   ]
  },
  {
   "cell_type": "code",
   "execution_count": 118,
   "metadata": {},
   "outputs": [],
   "source": [
    "r = requests.get(url)"
   ]
  },
  {
   "cell_type": "code",
   "execution_count": 119,
   "metadata": {},
   "outputs": [
    {
     "data": {
      "text/plain": [
       "'<!DOCTYPE html>\\n<html lang=\"en\" dir=\"ltr\">\\n<head>\\n  <meta charset=\"utf-8\">\\n  <title>Webスクレイピング入門者のためのサイト</title>\\n  <!-- Compiled and minified CSS -->\\n  <link rel=\"stylesheet\" href=\"https://cdnjs.cloudflare.com/ajax/libs/materialize/1.0.0-rc.2/css/materialize.min.css\">\\n  <link href=\"https://fonts.googleapis.com/icon?family=Material+Icons\" rel=\"stylesheet\"> \\x08\\n  <link rel=\"stylesheet\" href=\"static/assets/css/style.css\">\\n  <link rel=\"stylesheet\" href=\"static/assets/css/udemy.css\">\\n  <!-- <link rel=\"stylesheet\" href=\"static/assets/css/mypage.css\"> -->\\n</head>\\n\\n<body>\\n  <!-- Navbar -->\\n  <div class=\"navbar-fixed\">\\n    <!-- Dropdown Structure -->\\n    <nav class=\"\">\\n      <div class=\"nav-wrapper row\">\\n        <div class=\"col s5 l4 offset-s1 offset-l1\">\\n          <a href=\"\\x08/\" class=\"brand-logo\">Webスクレイピング入門</a>\\n        </div>\\n        <div class=\"col s5 l6\">\\n          <ul id=\"nav-mobile\" class=\"right hide-on-med-and-down\">\\n            <li><a href=\"\\x08/login_page\" class=\"\">ログイン</a></li>\\n            <li><a href=\"/ranking/\" class=\"\">ランキング</a></li>\\n            <li><a href=\"/image\" class=\"\">画像</a></li>\\n            <li><a href=\"/udemy\" class=\"\">Udemy</a></li>\\n            <li><a href=\"https://scraping-for-beginner.readthedocs.io/\" target=”_blank” class=\"\">サンプルコード</a></li>\\n          </ul>\\n        </div>\\n      </div>\\n    </nav>\\n  </div>\\n\\n  \\n\\n<div class=\"row\">\\n  <div class=\"col s4 offset-s4\">\\n    <div class=\"overview\">\\n      <p>\\n      こちらのページは、<b>PythonによるWebスクレイピング〜Webアプリケーション編〜</b>で使用します。\\n      </p>\\n    </div>\\n    <div class=\"\">\\n      <div class=\"\">\\n        <div class=\"card\">\\n          <div class=\"card-image\">\\n            <img src=\"/static/assets/img/self-introduction.jpg\">\\n            <span class=\"card-title\">今西 航平</span>\\n          </div>\\n          <div class=\"card-content\">\\n            <p><b><p class=\"position\">株式会社キカガク 取締役副社長</p></b><br>\\n\\n              東京理科大学在学中に株式会社キカガクに1人目の正社員としてジョイン。大学時代4年間、塾講師として「教育」に熱中し、300名以上の中高生の授業を担当。<br>\\n\\n            </p>\\n          </div>\\n          <div class=\"card-action\">\\n              <p class=\"subscribers\">受講生の数：6515</p>\\n              <p class=\"reviews\">レビューの数：890</p>\\n          </div>\\n        </div>\\n      </div>\\n    </div>\\n\\n  </div>\\n</div>\\n\\n\\n  <!-- Compiled and minified JavaScript -->\\n  <script src=\"https://code.jquery.com/jquery-3.3.1.min.js\"></script>\\n  <script src=\"https://cdnjs.cloudflare.com/ajax/libs/materialize/1.0.0-rc.2/js/materialize.min.js\"></script>\\n  <script type=\"text/javascript\">\\n    $(document).ready(function() {\\n      $(\".dropdown-trigger\").dropdown();\\n    });\\n  </script>\\n\\n\\n</body>\\n\\n</html>'"
      ]
     },
     "execution_count": 119,
     "metadata": {},
     "output_type": "execute_result"
    }
   ],
   "source": [
    "r.text"
   ]
  },
  {
   "cell_type": "code",
   "execution_count": 120,
   "metadata": {},
   "outputs": [
    {
     "data": {
      "text/plain": [
       "<!DOCTYPE html>\n",
       "\n",
       "<html dir=\"ltr\" lang=\"en\">\n",
       "<head>\n",
       "<meta charset=\"utf-8\"/>\n",
       "<title>Webスクレイピング入門者のためのサイト</title>\n",
       "<!-- Compiled and minified CSS -->\n",
       "<link href=\"https://cdnjs.cloudflare.com/ajax/libs/materialize/1.0.0-rc.2/css/materialize.min.css\" rel=\"stylesheet\"/>\n",
       "<link href=\"https://fonts.googleapis.com/icon?family=Material+Icons\" rel=\"stylesheet\"/> \b\n",
       "  <link href=\"static/assets/css/style.css\" rel=\"stylesheet\"/>\n",
       "<link href=\"static/assets/css/udemy.css\" rel=\"stylesheet\"/>\n",
       "<!-- <link rel=\"stylesheet\" href=\"static/assets/css/mypage.css\"> -->\n",
       "</head>\n",
       "<body>\n",
       "<!-- Navbar -->\n",
       "<div class=\"navbar-fixed\">\n",
       "<!-- Dropdown Structure -->\n",
       "<nav class=\"\">\n",
       "<div class=\"nav-wrapper row\">\n",
       "<div class=\"col s5 l4 offset-s1 offset-l1\">\n",
       "<a class=\"brand-logo\" href=\"\b/\">Webスクレイピング入門</a>\n",
       "</div>\n",
       "<div class=\"col s5 l6\">\n",
       "<ul class=\"right hide-on-med-and-down\" id=\"nav-mobile\">\n",
       "<li><a class=\"\" href=\"\b/login_page\">ログイン</a></li>\n",
       "<li><a class=\"\" href=\"/ranking/\">ランキング</a></li>\n",
       "<li><a class=\"\" href=\"/image\">画像</a></li>\n",
       "<li><a class=\"\" href=\"/udemy\">Udemy</a></li>\n",
       "<li><a class=\"\" href=\"https://scraping-for-beginner.readthedocs.io/\" target=\"”_blank”\">サンプルコード</a></li>\n",
       "</ul>\n",
       "</div>\n",
       "</div>\n",
       "</nav>\n",
       "</div>\n",
       "<div class=\"row\">\n",
       "<div class=\"col s4 offset-s4\">\n",
       "<div class=\"overview\">\n",
       "<p>\n",
       "      こちらのページは、<b>PythonによるWebスクレイピング〜Webアプリケーション編〜</b>で使用します。\n",
       "      </p>\n",
       "</div>\n",
       "<div class=\"\">\n",
       "<div class=\"\">\n",
       "<div class=\"card\">\n",
       "<div class=\"card-image\">\n",
       "<img src=\"/static/assets/img/self-introduction.jpg\"/>\n",
       "<span class=\"card-title\">今西 航平</span>\n",
       "</div>\n",
       "<div class=\"card-content\">\n",
       "<p><b><p class=\"position\">株式会社キカガク 取締役副社長</p></b><br/>\n",
       "\n",
       "              東京理科大学在学中に株式会社キカガクに1人目の正社員としてジョイン。大学時代4年間、塾講師として「教育」に熱中し、300名以上の中高生の授業を担当。<br/>\n",
       "</p>\n",
       "</div>\n",
       "<div class=\"card-action\">\n",
       "<p class=\"subscribers\">受講生の数：6515</p>\n",
       "<p class=\"reviews\">レビューの数：890</p>\n",
       "</div>\n",
       "</div>\n",
       "</div>\n",
       "</div>\n",
       "</div>\n",
       "</div>\n",
       "<!-- Compiled and minified JavaScript -->\n",
       "<script src=\"https://code.jquery.com/jquery-3.3.1.min.js\"></script>\n",
       "<script src=\"https://cdnjs.cloudflare.com/ajax/libs/materialize/1.0.0-rc.2/js/materialize.min.js\"></script>\n",
       "<script type=\"text/javascript\">\n",
       "    $(document).ready(function() {\n",
       "      $(\".dropdown-trigger\").dropdown();\n",
       "    });\n",
       "  </script>\n",
       "</body>\n",
       "</html>"
      ]
     },
     "execution_count": 120,
     "metadata": {},
     "output_type": "execute_result"
    }
   ],
   "source": [
    "soup = BeautifulSoup(r.text,'html.parser')\n",
    "soup"
   ]
  },
  {
   "cell_type": "code",
   "execution_count": 121,
   "metadata": {},
   "outputs": [
    {
     "name": "stdout",
     "output_type": "stream",
     "text": [
      "今西 航平\n"
     ]
    }
   ],
   "source": [
    "name = soup.select('.card-title')[0].string\n",
    "print(name)"
   ]
  },
  {
   "cell_type": "code",
   "execution_count": 122,
   "metadata": {},
   "outputs": [
    {
     "name": "stdout",
     "output_type": "stream",
     "text": [
      "6515\n"
     ]
    }
   ],
   "source": [
    "student = soup.select('.subscribers')[0].string\n",
    "student = int(student.split('：')[1])\n",
    "print(student)\n"
   ]
  },
  {
   "cell_type": "code",
   "execution_count": 123,
   "metadata": {},
   "outputs": [
    {
     "name": "stdout",
     "output_type": "stream",
     "text": [
      "890\n"
     ]
    }
   ],
   "source": [
    "reviews = soup.select('.reviews')[0].string\n",
    "reviews = int(reviews .split('：')[1])\n",
    "print(reviews)"
   ]
  },
  {
   "cell_type": "code",
   "execution_count": 124,
   "metadata": {},
   "outputs": [],
   "source": [
    "results = {\n",
    "    'name':name,\n",
    "    'student':student,\n",
    "    'reviews':reviews,\n",
    "}"
   ]
  },
  {
   "cell_type": "code",
   "execution_count": 125,
   "metadata": {},
   "outputs": [
    {
     "name": "stdout",
     "output_type": "stream",
     "text": [
      "{'name': '今西 航平', 'student': 6515, 'reviews': 890}\n"
     ]
    }
   ],
   "source": [
    "print(results)"
   ]
  },
  {
   "cell_type": "code",
   "execution_count": 126,
   "metadata": {},
   "outputs": [],
   "source": [
    "import pandas as pd"
   ]
  },
  {
   "cell_type": "code",
   "execution_count": 127,
   "metadata": {},
   "outputs": [],
   "source": [
    "df = pd.read_csv('assets/data.csv')\n",
    "# df = df.dropna(how='all')"
   ]
  },
  {
   "cell_type": "code",
   "execution_count": 128,
   "metadata": {},
   "outputs": [
    {
     "data": {
      "text/html": [
       "<div>\n",
       "<style scoped>\n",
       "    .dataframe tbody tr th:only-of-type {\n",
       "        vertical-align: middle;\n",
       "    }\n",
       "\n",
       "    .dataframe tbody tr th {\n",
       "        vertical-align: top;\n",
       "    }\n",
       "\n",
       "    .dataframe thead th {\n",
       "        text-align: right;\n",
       "    }\n",
       "</style>\n",
       "<table border=\"1\" class=\"dataframe\">\n",
       "  <thead>\n",
       "    <tr style=\"text-align: right;\">\n",
       "      <th></th>\n",
       "      <th>date</th>\n",
       "      <th>subscribers</th>\n",
       "      <th>reviews</th>\n",
       "    </tr>\n",
       "  </thead>\n",
       "  <tbody>\n",
       "    <tr>\n",
       "      <td>0</td>\n",
       "      <td>2019/1/17</td>\n",
       "      <td>2671</td>\n",
       "      <td>194</td>\n",
       "    </tr>\n",
       "    <tr>\n",
       "      <td>1</td>\n",
       "      <td>2019/1/18</td>\n",
       "      <td>2671</td>\n",
       "      <td>195</td>\n",
       "    </tr>\n",
       "    <tr>\n",
       "      <td>2</td>\n",
       "      <td>2019/1/19</td>\n",
       "      <td>2674</td>\n",
       "      <td>197</td>\n",
       "    </tr>\n",
       "    <tr>\n",
       "      <td>3</td>\n",
       "      <td>2019/1/20</td>\n",
       "      <td>2685</td>\n",
       "      <td>199</td>\n",
       "    </tr>\n",
       "    <tr>\n",
       "      <td>4</td>\n",
       "      <td>2019/1/21</td>\n",
       "      <td>2695</td>\n",
       "      <td>199</td>\n",
       "    </tr>\n",
       "  </tbody>\n",
       "</table>\n",
       "</div>"
      ],
      "text/plain": [
       "        date  subscribers  reviews\n",
       "0  2019/1/17         2671      194\n",
       "1  2019/1/18         2671      195\n",
       "2  2019/1/19         2674      197\n",
       "3  2019/1/20         2685      199\n",
       "4  2019/1/21         2695      199"
      ]
     },
     "execution_count": 128,
     "metadata": {},
     "output_type": "execute_result"
    }
   ],
   "source": [
    "df.head()"
   ]
  },
  {
   "cell_type": "code",
   "execution_count": 129,
   "metadata": {},
   "outputs": [
    {
     "data": {
      "text/html": [
       "<div>\n",
       "<style scoped>\n",
       "    .dataframe tbody tr th:only-of-type {\n",
       "        vertical-align: middle;\n",
       "    }\n",
       "\n",
       "    .dataframe tbody tr th {\n",
       "        vertical-align: top;\n",
       "    }\n",
       "\n",
       "    .dataframe thead th {\n",
       "        text-align: right;\n",
       "    }\n",
       "</style>\n",
       "<table border=\"1\" class=\"dataframe\">\n",
       "  <thead>\n",
       "    <tr style=\"text-align: right;\">\n",
       "      <th></th>\n",
       "      <th>date</th>\n",
       "      <th>subscribers</th>\n",
       "      <th>reviews</th>\n",
       "    </tr>\n",
       "  </thead>\n",
       "  <tbody>\n",
       "    <tr>\n",
       "      <td>406</td>\n",
       "      <td>2020/2/28</td>\n",
       "      <td>6482</td>\n",
       "      <td>873</td>\n",
       "    </tr>\n",
       "    <tr>\n",
       "      <td>407</td>\n",
       "      <td>2020/2/29</td>\n",
       "      <td>6495</td>\n",
       "      <td>876</td>\n",
       "    </tr>\n",
       "    <tr>\n",
       "      <td>408</td>\n",
       "      <td>2020/3/1</td>\n",
       "      <td>6500</td>\n",
       "      <td>876</td>\n",
       "    </tr>\n",
       "    <tr>\n",
       "      <td>409</td>\n",
       "      <td>2020/3/2</td>\n",
       "      <td>6504</td>\n",
       "      <td>878</td>\n",
       "    </tr>\n",
       "    <tr>\n",
       "      <td>410</td>\n",
       "      <td>2020/3/3</td>\n",
       "      <td>6510</td>\n",
       "      <td>885</td>\n",
       "    </tr>\n",
       "  </tbody>\n",
       "</table>\n",
       "</div>"
      ],
      "text/plain": [
       "          date  subscribers  reviews\n",
       "406  2020/2/28         6482      873\n",
       "407  2020/2/29         6495      876\n",
       "408   2020/3/1         6500      876\n",
       "409   2020/3/2         6504      878\n",
       "410   2020/3/3         6510      885"
      ]
     },
     "execution_count": 129,
     "metadata": {},
     "output_type": "execute_result"
    }
   ],
   "source": [
    "df.tail()"
   ]
  },
  {
   "cell_type": "code",
   "execution_count": 130,
   "metadata": {},
   "outputs": [],
   "source": [
    "import datetime"
   ]
  },
  {
   "cell_type": "code",
   "execution_count": 131,
   "metadata": {},
   "outputs": [],
   "source": [
    "date = datetime.datetime.today().strftime('%Y/%-m/%-d')"
   ]
  },
  {
   "cell_type": "raw",
   "metadata": {},
   "source": [
    "subscribers = results['student']\n",
    "reviews = results['reviews']"
   ]
  },
  {
   "cell_type": "code",
   "execution_count": 132,
   "metadata": {},
   "outputs": [
    {
     "data": {
      "text/html": [
       "<div>\n",
       "<style scoped>\n",
       "    .dataframe tbody tr th:only-of-type {\n",
       "        vertical-align: middle;\n",
       "    }\n",
       "\n",
       "    .dataframe tbody tr th {\n",
       "        vertical-align: top;\n",
       "    }\n",
       "\n",
       "    .dataframe thead th {\n",
       "        text-align: right;\n",
       "    }\n",
       "</style>\n",
       "<table border=\"1\" class=\"dataframe\">\n",
       "  <thead>\n",
       "    <tr style=\"text-align: right;\">\n",
       "      <th></th>\n",
       "      <th>date</th>\n",
       "      <th>subscribers</th>\n",
       "      <th>reviews</th>\n",
       "    </tr>\n",
       "  </thead>\n",
       "  <tbody>\n",
       "    <tr>\n",
       "      <td>0</td>\n",
       "      <td>2020/3/3</td>\n",
       "      <td>6515</td>\n",
       "      <td>890</td>\n",
       "    </tr>\n",
       "  </tbody>\n",
       "</table>\n",
       "</div>"
      ],
      "text/plain": [
       "       date  subscribers  reviews\n",
       "0  2020/3/3         6515      890"
      ]
     },
     "execution_count": 132,
     "metadata": {},
     "output_type": "execute_result"
    }
   ],
   "source": [
    "results = pd.DataFrame([[date,student,reviews]], columns=['date','subscribers','reviews'])\n",
    "results"
   ]
  },
  {
   "cell_type": "code",
   "execution_count": 133,
   "metadata": {},
   "outputs": [],
   "source": [
    "df = pd.concat([df,results])"
   ]
  },
  {
   "cell_type": "code",
   "execution_count": 134,
   "metadata": {},
   "outputs": [],
   "source": [
    "df.to_csv('assets/data.csv',index='False')"
   ]
  },
  {
   "cell_type": "code",
   "execution_count": 110,
   "metadata": {},
   "outputs": [],
   "source": [
    "from bs4 import BeautifulSoup\n",
    "import requests\n",
    "\n",
    "def get_udemy_info(url) :\n",
    "    requests.get(url)\n",
    "    r = requests.get(url)\n",
    "    soup = BeautifulSoup(r.text,'html.parser')\n",
    "#     各要素の取得\n",
    "    name = soup.select('.card-title')[0].string\n",
    "    student = soup.select('.subscribers')[0].string\n",
    "    student = int(student.split('：')[1])\n",
    "    reviews = soup.select('.reviews')[0].string\n",
    "    reviews = int(reviews .split('：')[1])\n",
    "#     取得したデータをリストに収納\n",
    "    results = {\n",
    "    'name':name,\n",
    "    'student':student,\n",
    "    'reviews':reviews,\n",
    "    }\n",
    "    \n",
    "    return results"
   ]
  },
  {
   "cell_type": "code",
   "execution_count": 135,
   "metadata": {},
   "outputs": [
    {
     "data": {
      "text/plain": [
       "{'name': '今西 航平', 'student': 6515, 'reviews': 890}"
      ]
     },
     "execution_count": 135,
     "metadata": {},
     "output_type": "execute_result"
    }
   ],
   "source": [
    "get_udemy_info('https://scraping-for-beginner.herokuapp.com/udemy')"
   ]
  },
  {
   "cell_type": "code",
   "execution_count": 138,
   "metadata": {},
   "outputs": [],
   "source": [
    "import pandas as pd\n",
    "import datetime\n",
    "\n",
    "def write_data():\n",
    "    df = pd.read_csv('assets/data.csv')\n",
    "    _results = get_udemy_info('https://scraping-for-beginner.herokuapp.com/udemy')\n",
    "\n",
    "    # 各要素を用意\n",
    "    date = datetime.datetime.today().strftime('%Y/%-m/%-d')\n",
    "    subscribers = _results['student']\n",
    "    reviews = _results['reviews']\n",
    "    # データフレームの形にする\n",
    "    results = pd.DataFrame([[date,reviews,subscribers]], columns=['date','reviews','subscribers'])\n",
    "    # データの結合\n",
    "    df = pd.concat([df,results])\n",
    "    # データの出力\n",
    "    df.to_csv('assets/data.csv',index='False')"
   ]
  },
  {
   "cell_type": "code",
   "execution_count": null,
   "metadata": {},
   "outputs": [],
   "source": []
  }
 ],
 "metadata": {
  "kernelspec": {
   "display_name": "Python 3",
   "language": "python",
   "name": "python3"
  },
  "language_info": {
   "codemirror_mode": {
    "name": "ipython",
    "version": 3
   },
   "file_extension": ".py",
   "mimetype": "text/x-python",
   "name": "python",
   "nbconvert_exporter": "python",
   "pygments_lexer": "ipython3",
   "version": "3.8.0"
  }
 },
 "nbformat": 4,
 "nbformat_minor": 2
}
